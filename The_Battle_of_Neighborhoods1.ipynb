{
 "cells": [
  {
   "cell_type": "markdown",
   "id": "beed0a44",
   "metadata": {},
   "source": [
    "# Introduction"
   ]
  },
  {
   "cell_type": "markdown",
   "id": "28c25344",
   "metadata": {},
   "source": [
    "#### Many students around the world migrate in order to get a better quality of education.Thus, providing them a good shelter with all the facilities nearby such that they may not waste their much time in merely arranging the things for their daily necessities has been a matter of concern everywhere.\n",
    "#### There should be a place for them in whatever city they move that could provide a home like feel so that they may become comfortable and could focus on studies without any disturbance."
   ]
  },
  {
   "cell_type": "markdown",
   "id": "df6955f9",
   "metadata": {},
   "source": [
    "### Business Problem"
   ]
  },
  {
   "cell_type": "markdown",
   "id": "a9ed7deb",
   "metadata": {},
   "source": [
    "#### The main objective of this project is to find a suitable location in Agra city to open a PG(Paying Guest) for students which should be safe and nearby to the universities. \n",
    "#### Also, we need to consider some other factors too such as it should be near a family society so that they may get better neighbors and away from the city noise, there should be some grocery stores nearby, etc."
   ]
  },
  {
   "cell_type": "markdown",
   "id": "eaa4931c",
   "metadata": {},
   "source": [
    "# Data"
   ]
  },
  {
   "cell_type": "markdown",
   "id": "d7cf3919",
   "metadata": {},
   "source": [
    "#### To solve the problem, we will need the following data:\n",
    "#### 1) List of neighbourhoods in Agra. This defines the scope of this project which is confined to the city of Agra,UP, which is in North India\n",
    "#### 2) Latitude and longitude coordinates of those neighbourhoods. This is required in order to plot the map and also to get the venue data\n",
    "#### 3) Venue data, particularly data related to PG. We will use this data to perform clustering on the neighbourhoods."
   ]
  },
  {
   "cell_type": "code",
   "execution_count": null,
   "id": "362dc975",
   "metadata": {},
   "outputs": [],
   "source": []
  }
 ],
 "metadata": {
  "kernelspec": {
   "display_name": "Python 3",
   "language": "python",
   "name": "python3"
  },
  "language_info": {
   "codemirror_mode": {
    "name": "ipython",
    "version": 3
   },
   "file_extension": ".py",
   "mimetype": "text/x-python",
   "name": "python",
   "nbconvert_exporter": "python",
   "pygments_lexer": "ipython3",
   "version": "3.9.5"
  }
 },
 "nbformat": 4,
 "nbformat_minor": 5
}
